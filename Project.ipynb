{
 "cells": [
  {
   "cell_type": "code",
   "execution_count": 2,
   "id": "9d646e92",
   "metadata": {},
   "outputs": [],
   "source": [
    "import pandas as pd\n",
    "import matplotlib.pyplot as plt\n",
    "import seaborn as sns\n",
    "import numpy as np"
   ]
  },
  {
   "cell_type": "code",
   "execution_count": 3,
   "id": "9810c7e8",
   "metadata": {},
   "outputs": [],
   "source": [
    "df = pd.read_csv(r\"F:\\dataset\\Pilot_Pharmaceutical_Take-Back_Program_Medication_Collection_Boxes.csv\")"
   ]
  },
  {
   "cell_type": "code",
   "execution_count": 4,
   "id": "d93ebc84",
   "metadata": {},
   "outputs": [
    {
     "data": {
      "text/html": [
       "<div>\n",
       "<style scoped>\n",
       "    .dataframe tbody tr th:only-of-type {\n",
       "        vertical-align: middle;\n",
       "    }\n",
       "\n",
       "    .dataframe tbody tr th {\n",
       "        vertical-align: top;\n",
       "    }\n",
       "\n",
       "    .dataframe thead th {\n",
       "        text-align: right;\n",
       "    }\n",
       "</style>\n",
       "<table border=\"1\" class=\"dataframe\">\n",
       "  <thead>\n",
       "    <tr style=\"text-align: right;\">\n",
       "      <th></th>\n",
       "      <th>Name</th>\n",
       "      <th>Address Line 1</th>\n",
       "      <th>Address Line 2</th>\n",
       "      <th>City</th>\n",
       "      <th>State</th>\n",
       "      <th>Zip Code</th>\n",
       "      <th>County</th>\n",
       "      <th>Available to Public?</th>\n",
       "      <th>Location 1</th>\n",
       "    </tr>\n",
       "  </thead>\n",
       "  <tbody>\n",
       "    <tr>\n",
       "      <th>0</th>\n",
       "      <td>Fairview Pharmacy &amp; Homecare Supply</td>\n",
       "      <td>4747-10 Nesconset Highway</td>\n",
       "      <td>NaN</td>\n",
       "      <td>Port Jefferson Station</td>\n",
       "      <td>NY</td>\n",
       "      <td>11776</td>\n",
       "      <td>Suffolk</td>\n",
       "      <td>Yes</td>\n",
       "      <td>4747-10 Nesconset Highway\\nPort Jefferson Stat...</td>\n",
       "    </tr>\n",
       "    <tr>\n",
       "      <th>1</th>\n",
       "      <td>Bartholomews Pharmacy, Inc.</td>\n",
       "      <td>2 Elm Street</td>\n",
       "      <td>NaN</td>\n",
       "      <td>Franklinville</td>\n",
       "      <td>NY</td>\n",
       "      <td>14737</td>\n",
       "      <td>Cattaraugus</td>\n",
       "      <td>Yes</td>\n",
       "      <td>2 Elm Street\\nFranklinville, NY 14737\\n(42.337...</td>\n",
       "    </tr>\n",
       "    <tr>\n",
       "      <th>2</th>\n",
       "      <td>Gerould's Professional Pharmacy</td>\n",
       "      <td>130 South Main Street</td>\n",
       "      <td>NaN</td>\n",
       "      <td>Elmira</td>\n",
       "      <td>NY</td>\n",
       "      <td>14904</td>\n",
       "      <td>Chemung</td>\n",
       "      <td>Yes</td>\n",
       "      <td>130 South Main Street\\nElmira, NY 14904\\n(42.0...</td>\n",
       "    </tr>\n",
       "    <tr>\n",
       "      <th>3</th>\n",
       "      <td>Grassy Sprain Pharmacy</td>\n",
       "      <td>640 Tuckahoe Rd</td>\n",
       "      <td>NaN</td>\n",
       "      <td>Yonkers</td>\n",
       "      <td>NY</td>\n",
       "      <td>10710</td>\n",
       "      <td>Westchester</td>\n",
       "      <td>Yes</td>\n",
       "      <td>640 Tuckahoe Rd\\nYonkers, NY 10710\\n(40.953661...</td>\n",
       "    </tr>\n",
       "    <tr>\n",
       "      <th>4</th>\n",
       "      <td>Market Street Apothecary LLC</td>\n",
       "      <td>78 W. Market St</td>\n",
       "      <td>NaN</td>\n",
       "      <td>Corning</td>\n",
       "      <td>NY</td>\n",
       "      <td>14830</td>\n",
       "      <td>Steuben</td>\n",
       "      <td>Yes</td>\n",
       "      <td>78 W. Market St\\nCorning, NY 14830\\n(42.143983...</td>\n",
       "    </tr>\n",
       "  </tbody>\n",
       "</table>\n",
       "</div>"
      ],
      "text/plain": [
       "                                  Name             Address Line 1  \\\n",
       "0  Fairview Pharmacy & Homecare Supply  4747-10 Nesconset Highway   \n",
       "1          Bartholomews Pharmacy, Inc.               2 Elm Street   \n",
       "2      Gerould's Professional Pharmacy      130 South Main Street   \n",
       "3               Grassy Sprain Pharmacy            640 Tuckahoe Rd   \n",
       "4         Market Street Apothecary LLC            78 W. Market St   \n",
       "\n",
       "  Address Line 2                    City State  Zip Code       County  \\\n",
       "0            NaN  Port Jefferson Station    NY     11776      Suffolk   \n",
       "1            NaN           Franklinville    NY     14737  Cattaraugus   \n",
       "2            NaN                  Elmira    NY     14904      Chemung   \n",
       "3            NaN                 Yonkers    NY     10710  Westchester   \n",
       "4            NaN                 Corning    NY     14830      Steuben   \n",
       "\n",
       "  Available to Public?                                         Location 1  \n",
       "0                  Yes  4747-10 Nesconset Highway\\nPort Jefferson Stat...  \n",
       "1                  Yes  2 Elm Street\\nFranklinville, NY 14737\\n(42.337...  \n",
       "2                  Yes  130 South Main Street\\nElmira, NY 14904\\n(42.0...  \n",
       "3                  Yes  640 Tuckahoe Rd\\nYonkers, NY 10710\\n(40.953661...  \n",
       "4                  Yes  78 W. Market St\\nCorning, NY 14830\\n(42.143983...  "
      ]
     },
     "execution_count": 4,
     "metadata": {},
     "output_type": "execute_result"
    }
   ],
   "source": [
    "df.head()"
   ]
  },
  {
   "cell_type": "code",
   "execution_count": 5,
   "id": "6bc382e9",
   "metadata": {},
   "outputs": [
    {
     "name": "stdout",
     "output_type": "stream",
     "text": [
      "           Zip Code\n",
      "count    127.000000\n",
      "mean   12337.039370\n",
      "std     1528.295707\n",
      "min    10010.000000\n",
      "25%    11217.000000\n",
      "50%    12018.000000\n",
      "75%    14031.500000\n",
      "max    14905.000000\n"
     ]
    }
   ],
   "source": [
    "print(df.describe())"
   ]
  },
  {
   "cell_type": "code",
   "execution_count": 6,
   "id": "a3c5968f",
   "metadata": {},
   "outputs": [
    {
     "name": "stdout",
     "output_type": "stream",
     "text": [
      "<class 'pandas.core.frame.DataFrame'>\n",
      "RangeIndex: 127 entries, 0 to 126\n",
      "Data columns (total 9 columns):\n",
      " #   Column                Non-Null Count  Dtype \n",
      "---  ------                --------------  ----- \n",
      " 0   Name                  127 non-null    object\n",
      " 1   Address Line 1        127 non-null    object\n",
      " 2   Address Line 2        10 non-null     object\n",
      " 3   City                  127 non-null    object\n",
      " 4   State                 127 non-null    object\n",
      " 5   Zip Code              127 non-null    int64 \n",
      " 6   County                127 non-null    object\n",
      " 7   Available to Public?  127 non-null    object\n",
      " 8   Location 1            127 non-null    object\n",
      "dtypes: int64(1), object(8)\n",
      "memory usage: 9.1+ KB\n"
     ]
    }
   ],
   "source": [
    "df.info()"
   ]
  },
  {
   "cell_type": "code",
   "execution_count": 6,
   "id": "143dc3d9",
   "metadata": {},
   "outputs": [
    {
     "data": {
      "text/plain": [
       "Name                      0\n",
       "Address Line 1            0\n",
       "Address Line 2          117\n",
       "City                      0\n",
       "State                     0\n",
       "Zip Code                  0\n",
       "County                    0\n",
       "Available to Public?      0\n",
       "Location 1                0\n",
       "dtype: int64"
      ]
     },
     "execution_count": 6,
     "metadata": {},
     "output_type": "execute_result"
    }
   ],
   "source": [
    "df.isnull().sum()"
   ]
  },
  {
   "cell_type": "code",
   "execution_count": 7,
   "id": "0988fbfe",
   "metadata": {},
   "outputs": [
    {
     "data": {
      "text/plain": [
       "0"
      ]
     },
     "execution_count": 7,
     "metadata": {},
     "output_type": "execute_result"
    }
   ],
   "source": [
    "df.duplicated().sum()"
   ]
  },
  {
   "cell_type": "code",
   "execution_count": 7,
   "id": "ce24ae3d",
   "metadata": {},
   "outputs": [
    {
     "data": {
      "text/plain": [
       "<Axes: >"
      ]
     },
     "execution_count": 7,
     "metadata": {},
     "output_type": "execute_result"
    },
    {
     "data": {
      "image/png": "[encoded data removed]",
      "text/plain": [
       "<Figure size 640x480 with 1 Axes>"
      ]
     },
     "metadata": {},
     "output_type": "display_data"
    }
   ],
   "source": [
    "import seaborn as sns\n",
    "sns.boxplot(df)"
   ]
  },
  {
   "cell_type": "code",
   "execution_count": 8,
   "id": "694d8487",
   "metadata": {
    "scrolled": true
   },
   "outputs": [
    {
     "data": {
      "text/plain": [
       "Prohealth Pharmacy                           2\n",
       "Avonora Pharmacy                             2\n",
       "The Medicine Shoppe                          1\n",
       "Alden Pharmacy                               1\n",
       "Euro Chemist Pharmacy                        1\n",
       "                                            ..\n",
       "Galens Health Mart Pharmacy                  1\n",
       "Adirondack Apothecary DBA Moriah Pharmacy    1\n",
       "S&M Pharmacy                                 1\n",
       "Tri-Road Pharmacy                            1\n",
       "Park Ridge Apothecary                        1\n",
       "Name: Name, Length: 125, dtype: int64"
      ]
     },
     "execution_count": 8,
     "metadata": {},
     "output_type": "execute_result"
    }
   ],
   "source": [
    "df['Name'].value_counts()"
   ]
  },
  {
   "cell_type": "code",
   "execution_count": 10,
   "id": "998ee4c1",
   "metadata": {},
   "outputs": [
    {
     "data": {
      "text/plain": [
       "4747-10 Nesconset Highway    1\n",
       "10 Central Ave               1\n",
       "13203 Broadway St            1\n",
       "669 Manhattan Ave            1\n",
       "2806 Ocean Avenue            1\n",
       "                            ..\n",
       "17 Sodus St                  1\n",
       "4315 Main St                 1\n",
       "6850 Main Street             1\n",
       "791 Westchester Ave          1\n",
       "1561 Long Pond Road          1\n",
       "Name: Address Line 1, Length: 127, dtype: int64"
      ]
     },
     "execution_count": 10,
     "metadata": {},
     "output_type": "execute_result"
    }
   ],
   "source": [
    "df['Address Line 1'].value_counts()"
   ]
  },
  {
   "cell_type": "code",
   "execution_count": 11,
   "id": "55971a6b",
   "metadata": {},
   "outputs": [
    {
     "data": {
      "text/plain": [
       "Pharmacy           2\n",
       "PO Box 277         1\n",
       "PO Box 188         1\n",
       "PO Box 229         1\n",
       "Suite 107          1\n",
       "(cor. Camp Ave)    1\n",
       "PO Box 335         1\n",
       "Suites 5 & 6       1\n",
       "Suite 104          1\n",
       "Name: Address Line 2, dtype: int64"
      ]
     },
     "execution_count": 11,
     "metadata": {},
     "output_type": "execute_result"
    }
   ],
   "source": [
    "df['Address Line 2'].value_counts()"
   ]
  },
  {
   "cell_type": "code",
   "execution_count": 9,
   "id": "3d08faf7",
   "metadata": {},
   "outputs": [
    {
     "data": {
      "text/plain": [
       "Yes                                      124\n",
       "No, exclusive to resident of facility      3\n",
       "Name: Available to Public?, dtype: int64"
      ]
     },
     "execution_count": 9,
     "metadata": {},
     "output_type": "execute_result"
    }
   ],
   "source": [
    "df['Available to Public?'].value_counts()"
   ]
  },
  {
   "cell_type": "code",
   "execution_count": 13,
   "id": "7d1723e0",
   "metadata": {},
   "outputs": [
    {
     "data": {
      "text/plain": [
       "Brooklyn       16\n",
       "Bronx           7\n",
       "New York        5\n",
       "Yonkers         4\n",
       "Flushing        3\n",
       "               ..\n",
       "Springville     1\n",
       "Cohoes          1\n",
       "Batavia         1\n",
       "Cheektowaga     1\n",
       "Rochester       1\n",
       "Name: City, Length: 89, dtype: int64"
      ]
     },
     "execution_count": 13,
     "metadata": {},
     "output_type": "execute_result"
    }
   ],
   "source": [
    "df['City'].value_counts()"
   ]
  },
  {
   "cell_type": "code",
   "execution_count": 14,
   "id": "998001f1",
   "metadata": {},
   "outputs": [
    {
     "data": {
      "text/plain": [
       "Kings          16\n",
       "Queens         12\n",
       "Westchester    10\n",
       "Erie            9\n",
       "Bronx           7\n",
       "Nassau          6\n",
       "Ulster          5\n",
       "New York        5\n",
       "Steuben         4\n",
       "Niagara         4\n",
       "Chautauqua      4\n",
       "Albany          4\n",
       "Essex           3\n",
       "Allegany        3\n",
       "Clinton         2\n",
       "Suffolk         2\n",
       "Orleans         2\n",
       "Cattaraugus     2\n",
       "Dutchess        2\n",
       "Schenectady     2\n",
       "Rockland        2\n",
       "Wyoming         2\n",
       "Chemung         2\n",
       "Lewis           1\n",
       "Madison         1\n",
       "Jefferson       1\n",
       "Herkimer        1\n",
       "Delaware        1\n",
       "Saratoga        1\n",
       "Onondaga        1\n",
       "Ridgewood       1\n",
       "Tompkins        1\n",
       "Franklin        1\n",
       "Genesee         1\n",
       "Rensselaer      1\n",
       "Wayne           1\n",
       "Richmond        1\n",
       "Warren          1\n",
       "Sullivan        1\n",
       "Columbia        1\n",
       "Name: County, dtype: int64"
      ]
     },
     "execution_count": 14,
     "metadata": {},
     "output_type": "execute_result"
    }
   ],
   "source": [
    "df['County'].value_counts()"
   ]
  },
  {
   "cell_type": "code",
   "execution_count": 15,
   "id": "e8117ec6",
   "metadata": {},
   "outputs": [
    {
     "data": {
      "text/plain": [
       "4747-10 Nesconset Highway\\nPort Jefferson Station, NY 11776\\n(40.916646, -73.054855)    1\n",
       "10 Central Ave\\nIlion, NY 13357\\n(43.016379, -75.034914)                                1\n",
       "13203 Broadway St\\nAlden, NY 14004\\n(42.900076, -78.496102)                             1\n",
       "669 Manhattan Ave\\nBrooklyn, NY 11222\\n(40.724764, -73.951363)                          1\n",
       "2806 Ocean Avenue\\nBrooklyn, NY 11229\\n(40.593076, -73.95022)                           1\n",
       "                                                                                       ..\n",
       "17 Sodus St\\nClyde, NY 14433\\n(43.082595, -76.872253)                                   1\n",
       "4315 Main St\\nPort Henry, NY 12974\\n(44.048052, -73.459603)                             1\n",
       "6850 Main Street\\nFlushing, NY 11367\\n(40.732115, -73.82479)                            1\n",
       "791 Westchester Ave\\nBronx, NY 10455\\n(40.818595, -73.903821)                           1\n",
       "1561 Long Pond Road\\nRochester, NY 14626\\n(43.196816, -77.701382)                       1\n",
       "Name: Location 1, Length: 127, dtype: int64"
      ]
     },
     "execution_count": 15,
     "metadata": {},
     "output_type": "execute_result"
    }
   ],
   "source": [
    "df['Location 1'].value_counts()"
   ]
  },
  {
   "cell_type": "code",
   "execution_count": 16,
   "id": "35fa17fb",
   "metadata": {},
   "outputs": [
    {
     "data": {
      "text/plain": [
       "NY    127\n",
       "Name: State, dtype: int64"
      ]
     },
     "execution_count": 16,
     "metadata": {},
     "output_type": "execute_result"
    }
   ],
   "source": [
    "df['State'].value_counts()"
   ]
  },
  {
   "cell_type": "code",
   "execution_count": 17,
   "id": "f7ebe2eb",
   "metadata": {
    "scrolled": true
   },
   "outputs": [
    {
     "data": {
      "text/plain": [
       "14103    2\n",
       "11233    2\n",
       "11375    2\n",
       "10710    2\n",
       "14830    2\n",
       "        ..\n",
       "14105    1\n",
       "10528    1\n",
       "14433    1\n",
       "12974    1\n",
       "14626    1\n",
       "Name: Zip Code, Length: 115, dtype: int64"
      ]
     },
     "execution_count": 17,
     "metadata": {},
     "output_type": "execute_result"
    }
   ],
   "source": [
    "df['Zip Code'].value_counts()"
   ]
  },
  {
   "cell_type": "code",
   "execution_count": 18,
   "id": "4d49cc08",
   "metadata": {},
   "outputs": [
    {
     "data": {
      "text/html": [
       "<div>\n",
       "<style scoped>\n",
       "    .dataframe tbody tr th:only-of-type {\n",
       "        vertical-align: middle;\n",
       "    }\n",
       "\n",
       "    .dataframe tbody tr th {\n",
       "        vertical-align: top;\n",
       "    }\n",
       "\n",
       "    .dataframe thead th {\n",
       "        text-align: right;\n",
       "    }\n",
       "</style>\n",
       "<table border=\"1\" class=\"dataframe\">\n",
       "  <thead>\n",
       "    <tr style=\"text-align: right;\">\n",
       "      <th></th>\n",
       "      <th>Name</th>\n",
       "      <th>Address Line 1</th>\n",
       "      <th>Address Line 2</th>\n",
       "      <th>City</th>\n",
       "      <th>State</th>\n",
       "      <th>Zip Code</th>\n",
       "      <th>County</th>\n",
       "      <th>Available to Public?</th>\n",
       "      <th>Location 1</th>\n",
       "    </tr>\n",
       "  </thead>\n",
       "  <tbody>\n",
       "    <tr>\n",
       "      <th>0</th>\n",
       "      <td>Fairview Pharmacy &amp; Homecare Supply</td>\n",
       "      <td>4747-10 Nesconset Highway</td>\n",
       "      <td>NaN</td>\n",
       "      <td>Port Jefferson Station</td>\n",
       "      <td>NY</td>\n",
       "      <td>11776</td>\n",
       "      <td>Suffolk</td>\n",
       "      <td>Yes</td>\n",
       "      <td>4747-10 Nesconset Highway\\nPort Jefferson Stat...</td>\n",
       "    </tr>\n",
       "    <tr>\n",
       "      <th>1</th>\n",
       "      <td>Bartholomews Pharmacy, Inc.</td>\n",
       "      <td>2 Elm Street</td>\n",
       "      <td>NaN</td>\n",
       "      <td>Franklinville</td>\n",
       "      <td>NY</td>\n",
       "      <td>14737</td>\n",
       "      <td>Cattaraugus</td>\n",
       "      <td>Yes</td>\n",
       "      <td>2 Elm Street\\nFranklinville, NY 14737\\n(42.337...</td>\n",
       "    </tr>\n",
       "    <tr>\n",
       "      <th>2</th>\n",
       "      <td>Gerould's Professional Pharmacy</td>\n",
       "      <td>130 South Main Street</td>\n",
       "      <td>NaN</td>\n",
       "      <td>Elmira</td>\n",
       "      <td>NY</td>\n",
       "      <td>14904</td>\n",
       "      <td>Chemung</td>\n",
       "      <td>Yes</td>\n",
       "      <td>130 South Main Street\\nElmira, NY 14904\\n(42.0...</td>\n",
       "    </tr>\n",
       "    <tr>\n",
       "      <th>3</th>\n",
       "      <td>Grassy Sprain Pharmacy</td>\n",
       "      <td>640 Tuckahoe Rd</td>\n",
       "      <td>NaN</td>\n",
       "      <td>Yonkers</td>\n",
       "      <td>NY</td>\n",
       "      <td>10710</td>\n",
       "      <td>Westchester</td>\n",
       "      <td>Yes</td>\n",
       "      <td>640 Tuckahoe Rd\\nYonkers, NY 10710\\n(40.953661...</td>\n",
       "    </tr>\n",
       "    <tr>\n",
       "      <th>4</th>\n",
       "      <td>Market Street Apothecary LLC</td>\n",
       "      <td>78 W. Market St</td>\n",
       "      <td>NaN</td>\n",
       "      <td>Corning</td>\n",
       "      <td>NY</td>\n",
       "      <td>14830</td>\n",
       "      <td>Steuben</td>\n",
       "      <td>Yes</td>\n",
       "      <td>78 W. Market St\\nCorning, NY 14830\\n(42.143983...</td>\n",
       "    </tr>\n",
       "  </tbody>\n",
       "</table>\n",
       "</div>"
      ],
      "text/plain": [
       "                                  Name             Address Line 1  \\\n",
       "0  Fairview Pharmacy & Homecare Supply  4747-10 Nesconset Highway   \n",
       "1          Bartholomews Pharmacy, Inc.               2 Elm Street   \n",
       "2      Gerould's Professional Pharmacy      130 South Main Street   \n",
       "3               Grassy Sprain Pharmacy            640 Tuckahoe Rd   \n",
       "4         Market Street Apothecary LLC            78 W. Market St   \n",
       "\n",
       "  Address Line 2                    City State  Zip Code       County  \\\n",
       "0            NaN  Port Jefferson Station    NY     11776      Suffolk   \n",
       "1            NaN           Franklinville    NY     14737  Cattaraugus   \n",
       "2            NaN                  Elmira    NY     14904      Chemung   \n",
       "3            NaN                 Yonkers    NY     10710  Westchester   \n",
       "4            NaN                 Corning    NY     14830      Steuben   \n",
       "\n",
       "  Available to Public?                                         Location 1  \n",
       "0                  Yes  4747-10 Nesconset Highway\\nPort Jefferson Stat...  \n",
       "1                  Yes  2 Elm Street\\nFranklinville, NY 14737\\n(42.337...  \n",
       "2                  Yes  130 South Main Street\\nElmira, NY 14904\\n(42.0...  \n",
       "3                  Yes  640 Tuckahoe Rd\\nYonkers, NY 10710\\n(40.953661...  \n",
       "4                  Yes  78 W. Market St\\nCorning, NY 14830\\n(42.143983...  "
      ]
     },
     "execution_count": 18,
     "metadata": {},
     "output_type": "execute_result"
    }
   ],
   "source": [
    "df.head()"
   ]
  },
  {
   "cell_type": "code",
   "execution_count": 24,
   "id": "e5377091",
   "metadata": {},
   "outputs": [
    {
     "data": {
      "text/plain": [
       "NY    127\n",
       "Name: State, dtype: int64"
      ]
     },
     "execution_count": 24,
     "metadata": {},
     "output_type": "execute_result"
    }
   ],
   "source": [
    "df['State'].value_counts()"
   ]
  },
  {
   "cell_type": "code",
   "execution_count": 30,
   "id": "46232ac8",
   "metadata": {
    "scrolled": false
   },
   "outputs": [
    {
     "data": {
      "text/plain": [
       "<Axes: >"
      ]
     },
     "execution_count": 30,
     "metadata": {},
     "output_type": "execute_result"
    },
    {
     "data": {
      "image/png": "[encoded data removed]",
      "text/plain": [
       "<Figure size 640x480 with 1 Axes>"
      ]
     },
     "metadata": {},
     "output_type": "display_data"
    }
   ],
   "source": [
    "sns.boxplot(df)"
   ]
  },
  {
   "cell_type": "code",
   "execution_count": 10,
   "id": "00d551f4",
   "metadata": {},
   "outputs": [],
   "source": [
    "df = df.drop(['State'], axis=1)\n",
    "df = df.drop(['Available to Public?'], axis=1)"
   ]
  },
  {
   "cell_type": "code",
   "execution_count": 11,
   "id": "aea11b15",
   "metadata": {},
   "outputs": [
    {
     "name": "stdout",
     "output_type": "stream",
     "text": [
      "                                                  Name  \\\n",
      "0                  Fairview Pharmacy & Homecare Supply   \n",
      "1                          Bartholomews Pharmacy, Inc.   \n",
      "2                      Gerould's Professional Pharmacy   \n",
      "3                               Grassy Sprain Pharmacy   \n",
      "4                         Market Street Apothecary LLC   \n",
      "..                                                 ...   \n",
      "122                                  Saratoga Hospital   \n",
      "123                     Wurlitzer Family Pharmacy Inc.   \n",
      "124  Forteen Star Enterprises Inc. DBA Central Ave ...   \n",
      "125  Martin's Foods of South Burlington, LLC DBA Ha...   \n",
      "126                              Park Ridge Apothecary   \n",
      "\n",
      "                Address Line 1 Address Line 2                    City  \\\n",
      "0    4747-10 Nesconset Highway            NaN  Port Jefferson Station   \n",
      "1                 2 Elm Street            NaN           Franklinville   \n",
      "2        130 South Main Street            NaN                  Elmira   \n",
      "3              640 Tuckahoe Rd            NaN                 Yonkers   \n",
      "4              78 W. Market St            NaN                 Corning   \n",
      "..                         ...            ...                     ...   \n",
      "122              211 Church St            NaN        Saratoga Springs   \n",
      "123            521 Division St            NaN         North Tonawanda   \n",
      "124            346 Central Ave            NaN                  Albany   \n",
      "125         2967 Rte 9 Ste 400            NaN                 Valatie   \n",
      "126        1561 Long Pond Road      Suite 104               Rochester   \n",
      "\n",
      "     Zip Code       County                                         Location 1  \n",
      "0       11776      Suffolk  4747-10 Nesconset Highway\\nPort Jefferson Stat...  \n",
      "1       14737  Cattaraugus  2 Elm Street\\nFranklinville, NY 14737\\n(42.337...  \n",
      "2       14904      Chemung  130 South Main Street\\nElmira, NY 14904\\n(42.0...  \n",
      "3       10710  Westchester  640 Tuckahoe Rd\\nYonkers, NY 10710\\n(40.953661...  \n",
      "4       14830      Steuben  78 W. Market St\\nCorning, NY 14830\\n(42.143983...  \n",
      "..        ...          ...                                                ...  \n",
      "122     12866     Saratoga  211 Church St\\nSaratoga Springs, NY 12866\\n(43...  \n",
      "123     14120      Niagara  521 Division St\\nNorth Tonawanda, NY 14120\\n(4...  \n",
      "124     12206       Albany  346 Central Ave\\nAlbany, NY 12206\\n(42.666051,...  \n",
      "125     12184     Columbia  2967 Rte 9 Ste 400\\nValatie, NY 12184\\n(42.428...  \n",
      "126     14626       Ulster  1561 Long Pond Road\\nRochester, NY 14626\\n(43....  \n",
      "\n",
      "[127 rows x 7 columns]\n"
     ]
    }
   ],
   "source": [
    "print(df)\n"
   ]
  },
  {
   "cell_type": "code",
   "execution_count": 12,
   "id": "bc8cc7d9",
   "metadata": {},
   "outputs": [],
   "source": [
    "df = df.dropna()\n"
   ]
  },
  {
   "cell_type": "code",
   "execution_count": 13,
   "id": "f6fa8c93",
   "metadata": {},
   "outputs": [],
   "source": [
    "from geopy.geocoders import Nominatim\n",
    "import folium\n"
   ]
  },
  {
   "cell_type": "code",
   "execution_count": 14,
   "id": "8ff8c782",
   "metadata": {},
   "outputs": [],
   "source": [
    "# Geocode addresses to get latitude and longitude\n",
    "geolocator = Nominatim(user_agent=\"your_geocoder_app\")\n",
    "df['location'] = df['Address Line 1'] + ', ' + df['City'] + ', ' + df['County'] + ', ' + df['Zip Code'].astype(str)\n",
    "df['geocode'] = df['location'].apply(geolocator.geocode)\n"
   ]
  },
  {
   "cell_type": "code",
   "execution_count": 15,
   "id": "2b4708fc",
   "metadata": {},
   "outputs": [],
   "source": [
    "df['latitude'] = df['geocode'].apply(lambda x: x.latitude if x else None)\n",
    "df['longitude'] = df['geocode'].apply(lambda x: x.longitude if x else None)\n"
   ]
  },
  {
   "cell_type": "code",
   "execution_count": 16,
   "id": "a4f910f9",
   "metadata": {},
   "outputs": [
    {
     "name": "stdout",
     "output_type": "stream",
     "text": [
      "      latitude  longitude\n",
      "9    44.216097 -73.595713\n",
      "32   40.572935 -73.995167\n",
      "41         NaN        NaN\n",
      "51   42.771032 -73.700274\n",
      "61   40.687639 -73.628802\n",
      "72   40.676427 -73.557661\n",
      "74         NaN        NaN\n",
      "89   43.795707 -75.499179\n",
      "117        NaN        NaN\n",
      "126        NaN        NaN\n"
     ]
    }
   ],
   "source": [
    "print(df[['latitude', 'longitude']])"
   ]
  },
  {
   "cell_type": "code",
   "execution_count": 17,
   "id": "2d068098",
   "metadata": {},
   "outputs": [],
   "source": [
    "map_center = [df['latitude'].mean(), df['longitude'].mean()]\n",
    "mymap = folium.Map(location=map_center, zoom_start=10)\n"
   ]
  },
  {
   "cell_type": "code",
   "execution_count": 19,
   "id": "dc3cec41",
   "metadata": {},
   "outputs": [],
   "source": [
    "df = df.dropna(subset=['latitude', 'longitude'])\n"
   ]
  },
  {
   "cell_type": "code",
   "execution_count": 20,
   "id": "34b3f590",
   "metadata": {},
   "outputs": [],
   "source": [
    "for index, location_info in df.iterrows():\n",
    "    if not pd.isna(location_info['latitude']) and not pd.isna(location_info['longitude']):\n",
    "        city_color = color_map.get(location_info['City'], 'blue')\n",
    "        folium.Marker(\n",
    "            [location_info['latitude'], location_info['longitude']],\n",
    "            popup=f\"Location {index + 1}, City: {location_info['City']}\",\n",
    "            icon=folium.Icon(color=city_color)\n",
    "        ).add_to(mymap)\n"
   ]
  },
  {
   "cell_type": "code",
   "execution_count": 21,
   "id": "eae33df5",
   "metadata": {},
   "outputs": [],
   "source": [
    "mymap.save('location_map.html')\n"
   ]
  },
  {
   "cell_type": "code",
   "execution_count": null,
   "id": "54f40e95",
   "metadata": {},
   "outputs": [],
   "source": []
  }
 ],
 "metadata": {
  "kernelspec": {
   "display_name": "Python 3 (ipykernel)",
   "language": "python",
   "name": "python3"
  },
  "language_info": {
   "codemirror_mode": {
    "name": "ipython",
    "version": 3
   },
   "file_extension": ".py",
   "mimetype": "text/x-python",
   "name": "python",
   "nbconvert_exporter": "python",
   "pygments_lexer": "ipython3",
   "version": "3.10.9"
  }
 },
 "nbformat": 4,
 "nbformat_minor": 5
}
